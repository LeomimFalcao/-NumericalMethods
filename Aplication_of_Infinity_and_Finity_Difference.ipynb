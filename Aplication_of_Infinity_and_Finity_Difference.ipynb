{
  "nbformat": 4,
  "nbformat_minor": 0,
  "metadata": {
    "colab": {
      "name": "Aplication of Infinity and Finity Difference",
      "provenance": [],
      "collapsed_sections": []
    },
    "kernelspec": {
      "name": "python3",
      "display_name": "Python 3"
    }
  },
  "cells": [
    {
      "cell_type": "code",
      "metadata": {
        "id": "k8tsDgyYR6HK"
      },
      "source": [
        "import numpy as np\n",
        "from scipy.linalg import solve_triangular\n",
        "import matplotlib.pyplot as plot\n",
        "np.set_printoptions(formatter={'float': lambda x: \"{:.4f}\".format(x)})"
      ],
      "execution_count": null,
      "outputs": []
    },
    {
      "cell_type": "markdown",
      "metadata": {
        "id": "mFdYDvPINhXs"
      },
      "source": [
        "diferença Finita pra frente e pra trás\n",
        "\n",
        "seta os valores x e y \n",
        "\n",
        "frente:\n",
        "\n",
        "subtrai o valor da frente pelo que você realmente quer e divide pelo \"passo\"\n",
        "\n",
        "\n",
        "\n",
        "trás:\n",
        "\n",
        "\n",
        "subtrai o valor que você quer pelo de trás e divide pelo \"passo\""
      ]
    },
    {
      "cell_type": "code",
      "metadata": {
        "id": "O6Y09WM2NeU3"
      },
      "source": [
        "x = [1, 2, 3, 4]\n",
        "y = [1, 2, 3, 4]\n",
        "\n",
        "h = 0.1\n",
        "print((y[1]-y[0])/h) #frente\n",
        "\n",
        "h = 0.1\n",
        "print((y[3]-y[2])/h) #tras"
      ],
      "execution_count": null,
      "outputs": []
    },
    {
      "cell_type": "markdown",
      "metadata": {
        "id": "nVh6DDjhO-Vf"
      },
      "source": [
        ""
      ]
    },
    {
      "cell_type": "markdown",
      "metadata": {
        "id": "JUJNywLJPnLF"
      },
      "source": [
        "integrando numericamente, definir a função depois aplicar os coeficientes da integração (7,32,12,32,7) e pá pum (a e b sendo os limites de integração)\n",
        "\n"
      ]
    },
    {
      "cell_type": "code",
      "metadata": {
        "id": "EBaPKEeYQj7b"
      },
      "source": [
        "def funcao(x):\n",
        "    return (4*x-3)**3\n",
        "\n",
        "    return resultado"
      ],
      "execution_count": null,
      "outputs": []
    },
    {
      "cell_type": "code",
      "metadata": {
        "id": "qfte2hKKQlTK"
      },
      "source": [
        "def integrate(funcao, a, b):\n",
        "  \n",
        "    coeficiente = [7,32,12,32,7]\n",
        "    resultado = 0\n",
        "    \n",
        "    \n",
        "    \n",
        "    for i in range(0,len(coeficiente)):\n",
        "        x = a + (i*(b-a))/(len(coeficiente)-1)\n",
        "        resultado += coeficiente[i]*funcao(x)\n",
        "    resultado = resultado*((b-a)/90.)\n",
        "    \n",
        "    return resultado"
      ],
      "execution_count": null,
      "outputs": []
    },
    {
      "cell_type": "markdown",
      "metadata": {
        "id": "GPa6kdJzYgZ5"
      },
      "source": [
        "metodo de heun setar a função, o valor inicial de x, valor final de x, y e o passo"
      ]
    },
    {
      "cell_type": "code",
      "metadata": {
        "id": "cWZWrbG_Yh6s"
      },
      "source": [
        "def heun(fxy, X0, XF, Y0, h):\n",
        "    max_it = int((XF-X0)/h)\n",
        "    \n",
        "    Y = np.zeros(max_it+1)\n",
        "    Y[0] = Y0\n",
        "    \n",
        "    for i in range(max_it):\n",
        "        XI = X0+i*h\n",
        "        k1 = fxy(XI,Y[i])\n",
        "        k2 = fxy(XI+h,Y[i]+h*k1)\n",
        "        Y[i+1] = Y[i] + (k1+k2)*h/2\n",
        "        \n",
        "    return Y"
      ],
      "execution_count": null,
      "outputs": []
    },
    {
      "cell_type": "markdown",
      "metadata": {
        "id": "5R_OIwHVYjDc"
      },
      "source": [
        "rungekuta"
      ]
    },
    {
      "cell_type": "code",
      "metadata": {
        "id": "G5bJegXkYkGR"
      },
      "source": [
        "def Rungekuta(fxy, X0, XF, Y0, h):\n",
        "    max_it = int((XF-X0)/h)\n",
        "    \n",
        "    Y = np.zeros(max_it+1)\n",
        "    Y[0] = Y0\n",
        "    \n",
        "    for i in range(max_it):\n",
        "        XI = X0+i*h\n",
        "        k1 = fxy(XI,Y[i])\n",
        "        k2 = fxy(XI + (h/2), Y[i]+ (h/2)*k1)\n",
        "        k3 = fxy(XI + (h/2), Y[i] + (h/2)*k2)\n",
        "        k4 = fxy(XI + h, Y[i] +(h*k3))\n",
        "        Y[i+1] = Y[i] + (1/6)*(k1+(2*k2) + (2*k3) + k4)*h\n",
        "    \n",
        "    return Y"
      ],
      "execution_count": null,
      "outputs": []
    },
    {
      "cell_type": "markdown",
      "metadata": {
        "id": "Bu8LgoTaQvP4"
      },
      "source": [
        ""
      ]
    },
    {
      "cell_type": "code",
      "metadata": {
        "id": "OOc5IlExf-ow"
      },
      "source": [
        "def fxy(x,y):\n",
        "  return 3*np.exp(-x)-0.4*y"
      ],
      "execution_count": null,
      "outputs": []
    },
    {
      "cell_type": "code",
      "metadata": {
        "id": "gTIqrg81gflX",
        "outputId": "cffb3615-5ec8-4af3-f9f5-8707ec3a3af4",
        "colab": {
          "base_uri": "https://localhost:8080/",
          "height": 34
        }
      },
      "source": [
        "resultado = Rungekuta(fxy,0,3,5,1.5)\n",
        "print(resultado)"
      ],
      "execution_count": null,
      "outputs": [
        {
          "output_type": "stream",
          "text": [
            "[5.0000 4.3646 2.7588]\n"
          ],
          "name": "stdout"
        }
      ]
    },
    {
      "cell_type": "markdown",
      "metadata": {
        "id": "8-o7MXjKh5Cq"
      },
      "source": [
        "trapezio(função respectiva, limite inferior, limite superior, e espaçamento)"
      ]
    },
    {
      "cell_type": "code",
      "metadata": {
        "id": "YCK4gPTch6k_"
      },
      "source": [
        "def trapezio(f,a,b,n):\n",
        "    h = (b-a)/n\n",
        "    I = f(a)\n",
        "    for i in range(1,n):\n",
        "        I += 2*f(a+i*h)\n",
        "    I= I + f(b)\n",
        "    I*=h/2\n",
        "    return I"
      ],
      "execution_count": null,
      "outputs": []
    },
    {
      "cell_type": "markdown",
      "metadata": {
        "id": "cCOsYdffkc0h"
      },
      "source": [
        "simpson 1/3"
      ]
    },
    {
      "cell_type": "code",
      "metadata": {
        "id": "-DaU_NhhpAnD"
      },
      "source": [
        "\n",
        "def simpson_um_terco(funcao,inferior,superior,*args):    \n",
        "    panels = 100000\n",
        "    limites = [inferior, superior]\n",
        "    h = ( limites[1] - limites[0] ) / (2 * panels)\n",
        "    n = (2 * panels) + 1\n",
        "    x = np.linspace(limites[0],limites[1],n)\n",
        "    y = funcao(x,*args)\n",
        "    \n",
        "    I = 0\n",
        "    comeco = -2\n",
        "    for looper in range(0,panels):\n",
        "        comeco += 2\n",
        "        contador = 0\n",
        "        for looper in range(comeco, comeco+3):\n",
        "            contador += 1\n",
        "            if (contador ==1 or contador == 3):\n",
        "                I += ((h/3) * y[looper])\n",
        "            else:\n",
        "                I += ((h/3) * 4 * y[looper])\n",
        "    return I"
      ],
      "execution_count": null,
      "outputs": []
    },
    {
      "cell_type": "code",
      "metadata": {
        "id": "iUeY5SuxpCze",
        "outputId": "88168422-960d-47f7-d47c-ebfffb8cba2b",
        "colab": {
          "base_uri": "https://localhost:8080/",
          "height": 34
        }
      },
      "source": [
        "def f(x):\n",
        "    return 0.2+25*x-200*x**2+675*x**3-900*x**4+400*x**5\n",
        "I = simpson_um_terco(f,0,0.8)\n",
        "print(I)"
      ],
      "execution_count": null,
      "outputs": [
        {
          "output_type": "stream",
          "text": [
            "1.6405333333333276\n"
          ],
          "name": "stdout"
        }
      ]
    },
    {
      "cell_type": "markdown",
      "metadata": {
        "id": "1tVK1gCkqbUY"
      },
      "source": [
        "simpson 3/8"
      ]
    },
    {
      "cell_type": "code",
      "metadata": {
        "id": "BYWlVveGqf7C"
      },
      "source": [
        "def simpson38(f,a,b):\n",
        "  m1=(2*a+b)/3\n",
        "  m2+(a+2*b)/3\n",
        "  integral = (b-a)/8*(f(a)+3*f(m1)+3*f(m2)+f(b))\n",
        "  return integral"
      ],
      "execution_count": null,
      "outputs": []
    },
    {
      "cell_type": "code",
      "metadata": {
        "id": "ZPTvqgmXtmm2"
      },
      "source": [
        "a = 0\n",
        "b = 2\n",
        "n = 15\n",
        "h = (b - a)/n\n",
        "somatorio = 0\n",
        "for i in range(n):\n",
        "  b = a+h\n",
        "  valor = simpson38(f,a,b)\n",
        "  somatorio = somatorio + valor\n",
        "  a = b\n",
        "print(somatorio)\n",
        "vt = np.exp(np.pi) / 2 + 1 /2\n",
        "erroporcentagem = abs((vt-somatorio)/vt) * 100\n",
        "print('Porcentagem de erro =', erroporcentagem)"
      ],
      "execution_count": null,
      "outputs": []
    },
    {
      "cell_type": "code",
      "metadata": {
        "id": "7OdRuVguzC4t"
      },
      "source": [
        "#interpolação de derivadas\n",
        "def somaelevada(vetor_de_valores, el):\n",
        "  s = 0\n",
        "  for i in range (len(vetor_de_valores)):\n",
        "    s += (vetor_de_valores[i] ** el)\n",
        "  return s\n",
        "\n",
        "def soma_produto(x, y, el):\n",
        "  s = 0\n",
        "  for i in range (0, len(x)):\n",
        "    s+=(y[i]*(x[i]**el))\n",
        "  return s\n",
        "def gerar_matrizes(x, y, n):\n",
        "  A = []\n",
        "  B = []\n",
        "  \n",
        "  for i in range (0, n):\n",
        "    inicio = i\n",
        "    aux = []\n",
        "    for j in range (0, n):\n",
        "      aux.append(somaelevada(x, inicio))\n",
        "      inicio+=1\n",
        "    A.append(aux)\n",
        "  \n",
        "  A[0][0] = n\n",
        "  \n",
        "  for i in range (0, n):\n",
        "    B.append([soma_produto(x, y, i)])\n",
        "  \n",
        "  return A, B\n",
        "  \n",
        "A, B = gerar_matrizes(X, Y, 3)\n",
        "print(A)\n",
        "print(B)"
      ],
      "execution_count": null,
      "outputs": []
    },
    {
      "cell_type": "code",
      "metadata": {
        "id": "yd3k-UlszKwg"
      },
      "source": [
        "coeficientes = np.linalg.solve(A, B)\n",
        "coeficientes"
      ],
      "execution_count": null,
      "outputs": []
    },
    {
      "cell_type": "code",
      "metadata": {
        "id": "WW5J3bm3zPrP"
      },
      "source": [
        "print(coeficientes[1] + (2*coeficientes[2])) # DERIVADA DE PRIMEIRA ORDEM"
      ],
      "execution_count": null,
      "outputs": []
    },
    {
      "cell_type": "code",
      "metadata": {
        "id": "pYQmSFMMzieB"
      },
      "source": [
        "print(2*coeficientes[2]) #DERIVADA DE SEGUNDA ORDEM"
      ],
      "execution_count": null,
      "outputs": []
    }
  ]
}