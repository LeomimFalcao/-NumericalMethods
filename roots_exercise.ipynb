{
  "nbformat": 4,
  "nbformat_minor": 0,
  "metadata": {
    "colab": {
      "name": "roots exercise.ipynb",
      "provenance": [],
      "include_colab_link": true
    },
    "kernelspec": {
      "display_name": "Python 3",
      "language": "python",
      "name": "python3"
    }
  },
  "cells": [
    {
      "cell_type": "markdown",
      "metadata": {
        "id": "view-in-github",
        "colab_type": "text"
      },
      "source": [
        "<a href=\"https://colab.research.google.com/github/LeomimFalcao/-NumericalMethods/blob/main/roots_exercise.ipynb\" target=\"_parent\"><img src=\"https://colab.research.google.com/assets/colab-badge.svg\" alt=\"Open In Colab\"/></a>"
      ]
    },
    {
      "metadata": {
        "id": "FBqPo1jdbPS5"
      },
      "cell_type": "markdown",
      "source": [
        "# Exercícios"
      ]
    },
    {
      "metadata": {
        "id": "UyV7auCHbPS7"
      },
      "cell_type": "markdown",
      "source": [
        "1. Dada a função abaixo, encontre a raiz através do método da bisseção no intervalo [1,4], com $\\varepsilon_s = 0.01 \\%$ ou o máximo de 100 iterações, mostre o gráfico do erro vs iterações."
      ]
    },
    {
      "metadata": {
        "id": "HftXlosfbPS9"
      },
      "cell_type": "code",
      "source": [
        "import numpy as np\n",
        "import matplotlib.pyplot as plt\n",
        "%matplotlib inline\n",
        "\n",
        "x = np.arange(1,4,0.001)\n",
        "\n",
        "\n",
        "def x3_20(x):\n",
        "  return x**3-20\n",
        "  "
      ],
      "execution_count": null,
      "outputs": []
    },
    {
      "metadata": {
        "id": "YP1RNNoGbPTC",
        "colab": {
          "base_uri": "https://localhost:8080/",
          "height": 265
        },
        "outputId": "08a645c2-65e4-4a83-90fb-0c2565ec18a5"
      },
      "cell_type": "code",
      "source": [
        "\n",
        "\n",
        "def bissecao(funcao,xmin, xmax, tol = 0.0001, max_it = 100):\n",
        "    raiz = []\n",
        "    erro = []\n",
        "    if funcao(xmin) * funcao(xmax) > 0 :\n",
        "        print(\"ih rapaz, azedou\")\n",
        "        return\n",
        "    else:\n",
        "        for i in range(max_it):\n",
        "            raiz.append((xmin+xmax)/2);\n",
        "            \n",
        "            if funcao(raiz[i]) * funcao(xmax) < 0 :\n",
        "                xmin = raiz[i]\n",
        "            elif funcao(raiz[i]) * funcao(xmin) < 0 :\n",
        "                xmax = raiz[i]\n",
        "            else:\n",
        "                break       \n",
        "            \n",
        "            if i > 0:\n",
        "                erro.append(abs((raiz[i] - raiz[i-1])/raiz[i])*100)\n",
        "                if erro[-1] < tol:\n",
        "                    break\n",
        "        return raiz, erro\n",
        "\n",
        "raizes, erros = bissecao(x3_20, 1,4.0, 0.0001)\n",
        "\n",
        "r = 20**(1/3) ## Resposta exata\n",
        "erro_real = []\n",
        "for raiz in raizes:\n",
        "    erro_real.append(abs((raiz-r)/raiz)*100)\n",
        "    \n",
        "it = np.arange(0,len(raizes))\n",
        "it2 = np.arange(0,len(erros))\n",
        "\n",
        "fig, ax = plt.subplots()\n",
        "ax.plot(it, erro_real, label='Erro real')\n",
        "ax.plot(it2, erros, label='Erro de aproximação')\n",
        "legend = ax.legend(loc='upper center', shadow=True)\n",
        "plt.grid(True)\n",
        "plt.show()"
      ],
      "execution_count": null,
      "outputs": [
        {
          "output_type": "display_data",
          "data": {
            "image/png": "[encoded data removed]",
            "text/plain": [
              "<Figure size 432x288 with 1 Axes>"
            ]
          },
          "metadata": {
            "tags": []
          }
        }
      ]
    },
    {
      "metadata": {
        "id": "X1tqYS6jbPTI"
      },
      "cell_type": "markdown",
      "source": [
        "2. Utilizando a mesma função, encontre a raiz através do método de Newton-Raphson com $x_0 = 3.0$ com $\\varepsilon_s = 0.01\\%$ ou o máximo de 100 iterações, mostre o gráfico do erro vs iterações."
      ]
    },
    {
      "metadata": {
        "id": "qJfioxZWbPTK"
      },
      "cell_type": "code",
      "source": [
        "import numpy as np\n",
        "import matplotlib.pyplot as plt\n",
        "%matplotlib inline\n",
        "\n",
        "x = np.arange(3,4,0.001)\n",
        "\n",
        "def x3_20(x):\n",
        "  return x**3-20\n",
        "def x3_20_D(x):\n",
        "  return 3*(x**2)\n",
        "\n",
        "def NewtonRaphson (x3_20,x0,x3_20_D,tol = 0.001,itmax = 100):\n",
        "  raiz = []\n",
        "  erro = []\n",
        "  raiz.append(x0)\n",
        "  for i in range (0, itmax):\n",
        "    raiz.append(raizes[-1] - (x3_20[-1]  )\n",
        "  \n",
        "  \n",
        "\n"
      ],
      "execution_count": null,
      "outputs": []
    },
    {
      "metadata": {
        "id": "zEwM_Mv7mc6i"
      },
      "cell_type": "code",
      "source": [
        ""
      ],
      "execution_count": null,
      "outputs": []
    },
    {
      "metadata": {
        "id": "dwVi-dnObPTO"
      },
      "cell_type": "markdown",
      "source": [
        "3. Utilizando a mesma função, encontre a raiz através do método da secante com $x_0 = 4.0$ e $x_1 = 5.5$ com $\\varepsilon_s = 0.01\\%$ ou o máximo de 100 iterações, mostre o gráfico do erro vs iterações."
      ]
    },
    {
      "metadata": {
        "id": "mUcpbncmbPTQ"
      },
      "cell_type": "code",
      "source": [
        ""
      ],
      "execution_count": null,
      "outputs": []
    },
    {
      "metadata": {
        "id": "V_6uawctbPTU"
      },
      "cell_type": "markdown",
      "source": [
        "4. Determine a raiz de $f(x) = x^3-6x^2+11x-6.1$, considerando sempre $\\varepsilon = 0.01 \\%$ :\n",
        "\n",
        "    a. Graficamente\n",
        "\n",
        "    b. Usando o método da bisseção, [-2.5, 10]\n",
        "    \n",
        "    b. Usando o método de Newton-Raphson, $x_i = 3.5$\n",
        "    \n",
        "    c. Usando o método da secante, $x_{i-1} = 2.5$ e $x_i = 3.5$"
      ]
    },
    {
      "metadata": {
        "id": "xEL-WE8tbPTW"
      },
      "cell_type": "code",
      "source": [
        ""
      ],
      "execution_count": null,
      "outputs": []
    },
    {
      "metadata": {
        "id": "sJhpWeBfbPTc"
      },
      "cell_type": "markdown",
      "source": [
        "5. O polinômio $f(x) = 0.0074x^4 - 0.284x^3 + 3.355x^2-12.183x + 5$ tem uma raiz entre 15 e 20. Aplique o método de Newton-Raphson para essa função utilizando uma aproximação inicial de $x_0=16.15$"
      ]
    },
    {
      "metadata": {
        "id": "7It9dhuPbPTe"
      },
      "cell_type": "code",
      "source": [
        ""
      ],
      "execution_count": null,
      "outputs": []
    },
    {
      "metadata": {
        "id": "U6F5B9YFbPTj"
      },
      "cell_type": "markdown",
      "source": [
        "6. Segundo estudos médicos, as chances de um saltador de *bungee jumping* sofrer uma lesão nas vértebras aumentam se a velocidade, $v(t)$ da queda exceder 36 m/s após $t = 4 s$ de queda livre. Determine a massa, $m$ na qual esse critério é execedido, dado um coeficiente de arrasto $c_d = 0.25 kg/m $. Você pode usar a solução analítica a seguir para prever a velocidade de queda em função do tempo:\n",
        "\n",
        "$$ v(t) = \\sqrt{\\frac{gm}{c_d}}tanh\\left(\\sqrt{\\frac{gc_d}{m}t}\\right)$$\n",
        "onde $g = 9.81$\n",
        "\n",
        "Uma maneira alternativa de olhar para o problema envolve a subtração de $v(t) de ambos os lados para fornecer uma nova função:\n",
        "\n",
        "$$  f(m) = \\sqrt{\\frac{gm}{c_d}}tanh\\left(\\sqrt{\\frac{gc_d}{m}t}\\right)-v(t)$$\n",
        "\n",
        "Agora, podemos ver que a resposta para o problema é o valor de $m$ que torna a função igual a zero.\n",
        "\n",
        "Escolha dois métodos para resolver esse problema, para um $\\varepsilon_s = 0.05\\%$ ou o máximo de 100 iterações dentro do intervalo [40, 200].\n",
        "\n",
        "Compare os seus resultados com o valor exato da raiz $m = 142.7376$"
      ]
    },
    {
      "metadata": {
        "id": "vh5YCUOHbPTm"
      },
      "cell_type": "code",
      "source": [
        ""
      ],
      "execution_count": null,
      "outputs": []
    }
  ]
}