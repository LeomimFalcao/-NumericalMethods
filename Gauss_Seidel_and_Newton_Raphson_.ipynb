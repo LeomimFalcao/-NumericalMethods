{
  "nbformat": 4,
  "nbformat_minor": 0,
  "metadata": {
    "colab": {
      "name": "Gauss-Seidel and Newton-Raphson .ipynb",
      "provenance": [],
      "include_colab_link": true
    },
    "kernelspec": {
      "name": "python3",
      "display_name": "Python 3"
    }
  },
  "cells": [
    {
      "cell_type": "markdown",
      "metadata": {
        "id": "view-in-github",
        "colab_type": "text"
      },
      "source": [
        "<a href=\"https://colab.research.google.com/github/LeomimFalcao/-NumericalMethods/blob/main/Gauss_Seidel_and_Newton_Raphson_.ipynb\" target=\"_parent\"><img src=\"https://colab.research.google.com/assets/colab-badge.svg\" alt=\"Open In Colab\"/></a>"
      ]
    },
    {
      "cell_type": "code",
      "metadata": {
        "id": "wiSJKdIx6DkO"
      },
      "source": [
        "import numpy as np\n",
        "from scipy.linalg import solve_triangular\n",
        "import matplotlib.pyplot as plot\n",
        "np.set_printoptions(formatter={'float': lambda x: \"{:.4f}\".format(x)})"
      ],
      "execution_count": null,
      "outputs": []
    },
    {
      "cell_type": "code",
      "metadata": {
        "id": "G9ct_LE4JAOe",
        "cellView": "form"
      },
      "source": [
        "#@title 1ª Prova métodos numéricos 2019.1\n",
        "nome = \"\\\"\\\\\\\"Leomim Antonio B. B. Falcao\\\"\" #@param {type:\"string\"}\n",
        "matricula = \"20181610016\" #@param {type:\"string\"}"
      ],
      "execution_count": null,
      "outputs": []
    },
    {
      "cell_type": "markdown",
      "metadata": {
        "id": "PKwVPhb8QxDG"
      },
      "source": [
        "### Formulário de entrega: https://forms.gle/YQbymZpetepXxaxy9"
      ]
    },
    {
      "cell_type": "code",
      "metadata": {
        "id": "SOolasis5p_7",
        "colab": {
          "base_uri": "https://localhost:8080/",
          "height": 34
        },
        "outputId": "0b8430ef-f912-44a5-9c46-ee3d2ab93973"
      },
      "source": [
        "print(f'{nome} - {matricula} - 1ª Prova de Métodos Numéricos 2019.1')"
      ],
      "execution_count": null,
      "outputs": [
        {
          "output_type": "stream",
          "text": [
            "\"Leomim Antônio B. B. Falcão - 20181610016 - 1ª Prova de Métodos Numéricos 2019.1\n"
          ],
          "name": "stdout"
        }
      ]
    },
    {
      "cell_type": "markdown",
      "metadata": {
        "id": "hauHrPz3Ktxs"
      },
      "source": [
        "---\n",
        "#### Bisseção\n",
        "$$  x_{meio} = \\frac{(x_{max}+x_{min})}{2} $$\n",
        "\n",
        "#### Newton - Raphson\n",
        "\n",
        "$$ x_{i+1} = x_i - \\frac{f(x_i)}{f'(x_i)} $$\n",
        "\n",
        "#### Secante\n",
        "\n",
        "$$ x_{i+1} = x_i - \\frac{f(x_i)(x_i-x_{i-1})}{f(x_i)-f(x_{i-1})} $$\n",
        "\n",
        "#### erro de aproximação\n",
        "\n",
        "$$ | \\varepsilon_a | = \\left | \\frac{x^{novo}_r - x^{velho}_r }{x^{novo}_r} \\right| \\times 100% $$\n",
        "\n",
        "---"
      ]
    },
    {
      "cell_type": "markdown",
      "metadata": {
        "id": "l8eCAJ6wLq73"
      },
      "source": [
        "# Questões"
      ]
    },
    {
      "cell_type": "markdown",
      "metadata": {
        "id": "5yuqHAJW6mRx"
      },
      "source": [
        "### 1. Usando os métodos da bisseção, da secante ou de Newton-Raphson calcular uma raiz das equações abaixo com $\\epsilon_a < 0.0005$ e com no máximo 2000 iterações. Utilize cada método ao menos uma vez. Crie uma célula separada para cada item.\n",
        "\n",
        "a. $f(x) = 5x^3 - 2x^2 + 8x - 10$, $[0 \\leq x \\leq 2]$\n",
        "\n",
        "b. $f(x) = 2x^3 - 5x^2 - sen(x) - 200$, $[1 \\leq x \\leq 4]$\n",
        "\n",
        "c. $f(x) = (x+1)(x-1)(x-3)^5$,$[2 \\leq x \\leq 5]$\n",
        "\n",
        "d. $f(x) = (x+2)^3\\sqrt{x^2 +1}$, $[-3 \\leq x \\leq 0]$"
      ]
    },
    {
      "cell_type": "code",
      "metadata": {
        "id": "shpbRN9a9lt8",
        "colab": {
          "base_uri": "https://localhost:8080/",
          "height": 34
        },
        "outputId": "3afc6050-51e2-45ce-d7c5-ca23bb9ba6e5"
      },
      "source": [
        "##Alternativa A)\n",
        "\n",
        "import numpy as np\n",
        "\n",
        "\n",
        "def normal(x):\n",
        "    \n",
        "    return 5*(x**3) - 2*(x**2) + 8 * x -10\n",
        "\n",
        "\n",
        "def derivada(x):\n",
        "    return 15*(x**2) - 4*x + 8\n",
        "\n",
        "def newtonRaphson(funcao, derivada_funcao, x_inicial, iteracoes_maximas = 2000, tolerancia = 0.0005):\n",
        "   \n",
        "    raizes = []\n",
        "    erros = []\n",
        "    \n",
        "\n",
        "    raizes.append(x_inicial)\n",
        "\n",
        "    for i in range (0, iteracoes_maximas):\n",
        "\n",
        "        \n",
        "        \n",
        "        raizes.append(raizes[-1] - (funcao(raizes[-1])/derivada_funcao(raizes[-1])))\n",
        "        \n",
        "       \n",
        "        \n",
        "        if i>0:\n",
        "            erro_atual = abs((raizes[-1]-raizes[-2])/raizes[-1])\n",
        "            erros.append(erro_atual)\n",
        "            \n",
        "            if erro_atual<=tolerancia:\n",
        "                break\n",
        "    \n",
        "    return raizes, erros\n",
        "\n",
        "raizes, erros = newtonRaphson(normal,derivada, 0)\n",
        "\n",
        "\n",
        "\n",
        "\n",
        "print('{:.6f}'.format(raizes[-1]))"
      ],
      "execution_count": null,
      "outputs": [
        {
          "output_type": "stream",
          "text": [
            "0.945369\n"
          ],
          "name": "stdout"
        }
      ]
    },
    {
      "cell_type": "code",
      "metadata": {
        "id": "XmSFld8rKhoU",
        "colab": {
          "base_uri": "https://localhost:8080/",
          "height": 34
        },
        "outputId": "6023a95a-cefc-4e98-e0c1-91a084a1d6a0"
      },
      "source": [
        "##Alternativa B\n",
        "\n",
        "import numpy as np\n",
        "\n",
        "\n",
        "def normal(x):\n",
        "    \n",
        "    return 2*(x**3) - 5*(x**2) - np.sin(x) - 200\n",
        "\n",
        "\n",
        "def derivada(x):\n",
        "    \n",
        "    return 6*(x**2) - 10*x - np.cos(x)\n",
        "\n",
        "def newtonRaphson(funcao, derivada_funcao, x_inicial, iteracoes_maximas = 2000, tolerancia = 0.0005):\n",
        "   \n",
        "    raizes = []\n",
        "    erros = []\n",
        "    \n",
        "\n",
        "    raizes.append(x_inicial)\n",
        "\n",
        "    for i in range (0, iteracoes_maximas):\n",
        "\n",
        "        \n",
        "        \n",
        "        raizes.append(raizes[-1] - (funcao(raizes[-1])/derivada_funcao(raizes[-1])))\n",
        "        \n",
        "       \n",
        "        \n",
        "        if i>0:\n",
        "            erro_atual = abs((raizes[-1]-raizes[-2])/raizes[-1])\n",
        "            erros.append(erro_atual)\n",
        "            \n",
        "            if erro_atual<=tolerancia:\n",
        "                break\n",
        "    \n",
        "    return raizes, erros\n",
        "\n",
        "raizes, erros = newtonRaphson(normal,derivada, 1)\n",
        "\n",
        "\n",
        "\n",
        "\n",
        "print('{:.6f}'.format(raizes[-1]))"
      ],
      "execution_count": null,
      "outputs": [
        {
          "output_type": "stream",
          "text": [
            "5.637275\n"
          ],
          "name": "stdout"
        }
      ]
    },
    {
      "cell_type": "code",
      "metadata": {
        "id": "oA_aO-3bKhvg",
        "colab": {
          "base_uri": "https://localhost:8080/",
          "height": 34
        },
        "outputId": "289ec6ef-cb38-47bc-a0d1-29b5faaccb94"
      },
      "source": [
        "## Alternativa C\n",
        "\n",
        "import numpy as np\n",
        "\n",
        "def x_x_x(x):\n",
        "    return (x+1)*(x-1)*((x-3)**5)\n",
        "\n",
        "def bissercao(function, xMinimo, xMaximo, iteracoes_max = 2000, tolerancia = 0.0005):\n",
        "  \n",
        "    raizes = []\n",
        "    erros  = []\n",
        "\n",
        "    if function(xMinimo)*function(xMaximo)>0:\n",
        "        print(\"A raiz não se encontra, sr(a) usuario(a)\")\n",
        "        return \n",
        "\n",
        "    for i in range (0, iteracoes_max):\n",
        "\n",
        "        xMeio = (xMaximo+xMinimo)/2\n",
        "        raizes.append(xMeio)\n",
        "\n",
        "\n",
        "        if function(xMeio)*function(xMaximo)<0:\n",
        "            xMinimo = xMeio\n",
        "        elif function(xMinimo)*function(xMeio)<0:\n",
        "            xMaximo = xMeio\n",
        "        else:\n",
        "            break\n",
        "        \n",
        "       \n",
        "        if i>0:\n",
        "            actualError = abs((raizes[-1]-raizes[-2])/raizes[-1])\n",
        "            erros.append(actualError)\n",
        "            \n",
        "            if actualError<=tolerancia:\n",
        "                break\n",
        "\n",
        "    return raizes, erros\n",
        "\n",
        "raizes, erros = bissercao(x_x_x, 2, 5, tolerancia = 0.0005)\n",
        "\n",
        "\n",
        "print('{:.6f}'.format(raizes[-1]))"
      ],
      "execution_count": null,
      "outputs": [
        {
          "output_type": "stream",
          "text": [
            "3.000488\n"
          ],
          "name": "stdout"
        }
      ]
    },
    {
      "cell_type": "code",
      "metadata": {
        "id": "beOoJ-5yKiby",
        "colab": {
          "base_uri": "https://localhost:8080/",
          "height": 34
        },
        "outputId": "fbcbad7e-8788-412c-d711-d64cd2f25835"
      },
      "source": [
        "##Alternativa D\n",
        "\n",
        "import numpy as np\n",
        "\n",
        "\n",
        "def equacao(x):\n",
        "    return ((x+2)**3) * np.sqrt((x**2+1)) \n",
        "\n",
        "def secante(funcao, x_inicial, x_proximo, iteracoes_maximas = 2000,tolerancia = 0.0005):\n",
        "   \n",
        "    raizes = []\n",
        "    erros = []\n",
        "\n",
        "  \n",
        "    \n",
        "    raizes.append(x_inicial)\n",
        "    raizes.append(x_proximo)\n",
        "\n",
        "    for i in range (0, iteracoes_maximas):\n",
        "        \n",
        "       \n",
        "\n",
        "        numerador = funcao(raizes[-1])*(raizes[-1] - raizes[-2])\n",
        "        denominador = funcao(raizes[-1]) - funcao(raizes[-2])\n",
        "        \n",
        "        raizes.append(raizes[-1] - (numerador/denominador))\n",
        "        \n",
        "\n",
        "        if i>0:\n",
        "            erroAtual = abs((raizes[-1]-raizes[-2])/raizes[-1])\n",
        "            erros.append(erroAtual)\n",
        "\n",
        "            if erroAtual<=tolerancia:\n",
        "                break\n",
        "    \n",
        "    return raizes, erros\n",
        "\n",
        "raizes, erros = secante(equacao, -3.0, 0) \n",
        "\n",
        "\n",
        "print('{:.6f}'.format(raizes[-1]))"
      ],
      "execution_count": null,
      "outputs": [
        {
          "output_type": "stream",
          "text": [
            "-2.002723\n"
          ],
          "name": "stdout"
        }
      ]
    },
    {
      "cell_type": "code",
      "metadata": {
        "id": "_c27SnyRLziH"
      },
      "source": [
        ""
      ],
      "execution_count": null,
      "outputs": []
    },
    {
      "cell_type": "code",
      "metadata": {
        "id": "nGi5IsFqLzk4"
      },
      "source": [
        ""
      ],
      "execution_count": null,
      "outputs": []
    },
    {
      "cell_type": "markdown",
      "metadata": {
        "id": "5Kwa1-XT-_mx"
      },
      "source": [
        "### 2. Dado o sistema abaixo:\n",
        "\n",
        "$$\\begin{bmatrix}\n",
        "10x_1-x_2-2x_3=6\\\\\n",
        "-x_1+11x_2-x_3+3x_4=25\\\\\n",
        "2x_1-x_2+10x_3-x_4=-11\\\\\n",
        "3x_2-x_3+8x_4 = 15\n",
        "\\end{bmatrix}$$\n",
        "\n",
        "a. Verifique se a convergência pode ser garantida através do método de Gauss-Seidel.\n",
        "\n",
        "b. Resolva o sistema utilizando Gauss-Seidel se  a convergência for garantida, caso contrário utilize o método de Gauss com pivotação parcial."
      ]
    },
    {
      "cell_type": "code",
      "metadata": {
        "id": "OvL16c97BkhK",
        "colab": {
          "base_uri": "https://localhost:8080/",
          "height": 51
        },
        "outputId": "25b74709-7dba-4eb1-fde8-52d2e1c7d17a"
      },
      "source": [
        "##Alternativa A)\n",
        "\n",
        "import numpy as np\n",
        "\n",
        "np.set_printoptions(formatter={'float': lambda x: \"{:.4f}\".format(x)})\n",
        "\n",
        "def gauss_Seidel(matriz, iteracoes_maximas = 100, tolerancia = 0.0001):\n",
        "\n",
        "  \n",
        "    matriz_inicial = np.zeros(matriz.shape[0])\n",
        "    matriz_alterada = np.zeros(matriz.shape[0])\n",
        "\n",
        "    for i in range (0, iteracoes_maximas):\n",
        "        \n",
        "\n",
        "        for j in range(0, matriz_inicial.shape[0]):\n",
        "\n",
        "            sum = 0\n",
        "            independent_coefficient = matriz[j, matriz.shape[1]-1]\n",
        "            coefficient = matriz[j, j]\n",
        "\n",
        "            for k in range (0, matriz_alterada.shape[0]):\n",
        "                if j!=k:\n",
        "                    sum+=(matriz[j, k]*matriz_alterada[k])\n",
        "            \n",
        "            matriz_alterada[j] = (independent_coefficient-sum)/coefficient\n",
        "\n",
        "        if i>0:\n",
        "            erros = []\n",
        "            for j in range (0, matriz_alterada.shape[0]):\n",
        "                erros.append(abs((matriz_alterada[j]-matriz_inicial[j])/matriz_alterada[j]))\n",
        "            \n",
        "            maximo_erro = max(erros)\n",
        "            \n",
        "            if maximo_erro<=tolerancia:\n",
        "                break\n",
        "\n",
        "        \n",
        "        matriz_inicial = matriz_alterada.copy()\n",
        "    \n",
        "    return matriz_alterada\n",
        "\n",
        "def conferir(matriz, raizes):\n",
        "    if np.all(np.dot(matriz[:,:-1], raizes)):\n",
        "        return \"Topzera Total, Sr(a) Usuario(a)!\"\n",
        "    return \"Azedou, sr(a) usuario(a) !\"\n",
        "\n",
        "\n",
        "\n",
        "sistema_linear = np.array([[10.0, -1.0, -2.0, 0.0 , 6.0], [-1.0, 11.0, -1.0, 3.4,25.0], [2.0, -1.0, 10, -1,-11],[0,3,-1,8,15]], dtype = float)\n",
        "\n",
        "raizes = gauss_Seidel(sistema_linear)\n",
        "print('Raizes: ', raizes)\n",
        "print(conferir(sistema_linear, raizes))"
      ],
      "execution_count": null,
      "outputs": [
        {
          "output_type": "stream",
          "text": [
            "Raizes:  [0.6072 1.9229 -0.9253 1.0382]\n",
            "Topzera Total, Sr(a) Usuario(a)!\n"
          ],
          "name": "stdout"
        }
      ]
    },
    {
      "cell_type": "code",
      "metadata": {
        "id": "SpCRYEk2Kj_E"
      },
      "source": [
        "## A partir da execução feita acima é possivel sim,obter valores para as raizes com o metódo Gauss-Seidel, não precisando realizar a pivotação parcial, que era proposta na alternativa B."
      ],
      "execution_count": null,
      "outputs": []
    }
  ]
}