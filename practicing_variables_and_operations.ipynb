{
  "nbformat": 4,
  "nbformat_minor": 0,
  "metadata": {
    "colab": {
      "name": "practicing variables and operations.ipynb",
      "provenance": [],
      "include_colab_link": true
    },
    "kernelspec": {
      "display_name": "Python 3",
      "language": "python",
      "name": "python3"
    }
  },
  "cells": [
    {
      "cell_type": "markdown",
      "metadata": {
        "id": "view-in-github",
        "colab_type": "text"
      },
      "source": [
        "<a href=\"https://colab.research.google.com/github/LeomimFalcao/-NumericalMethods/blob/main/practicing_variables_and_operations.ipynb\" target=\"_parent\"><img src=\"https://colab.research.google.com/assets/colab-badge.svg\" alt=\"Open In Colab\"/></a>"
      ]
    },
    {
      "metadata": {
        "id": "Ho36bQBmW1sD"
      },
      "cell_type": "markdown",
      "source": [
        "# Exercícios de revisão\n",
        "\n",
        "## Os próximos exercícios tem como objetivo familiarizar você a programar utilizando python e o Jupyter Notebook"
      ]
    },
    {
      "metadata": {
        "id": "KcZ3xASvW1sF"
      },
      "cell_type": "markdown",
      "source": [
        "## 1. Na célula abaixo crie as seguintes variáveis:\n",
        "    a. Uma variável inteira chamada `nota` com valor 5;\n",
        "    b. Uma variável real chamada `media` com valor 5;\n",
        "    c. Uma variável texto chamada `resultado` com valor 5;"
      ]
    },
    {
      "metadata": {
        "id": "HCB4gZIfW1sG"
      },
      "cell_type": "code",
      "source": [
        "nota = 5\n",
        "media = 5.0\n",
        "resultado = \" 5 \""
      ],
      "execution_count": null,
      "outputs": []
    },
    {
      "metadata": {
        "id": "1-cub-dmW1sL"
      },
      "cell_type": "markdown",
      "source": [
        "### Não mude nada na célula abaixo apenas execute-a, ela serve para testar as suas respostas"
      ]
    },
    {
      "metadata": {
        "id": "7r6t1vt1W1sM",
        "outputId": "9007bfef-83a8-4cf6-ad4a-5760144fcd07",
        "colab": {
          "base_uri": "https://localhost:8080/",
          "height": 34
        }
      },
      "cell_type": "code",
      "source": [
        "def teste_variaveis():\n",
        "    assert type(nota) is int, \"nota não é um inteiro\"\n",
        "    assert type(media) is float, \"media não é um valor real\"\n",
        "    assert type(resultado) is str, \"resultado não é um texto\"\n",
        "\n",
        "try:\n",
        "    teste_variaveis()\n",
        "    print(\"Deu tudo certo, pode continuar...\")\n",
        "except AssertionError as error:\n",
        "    print(error)"
      ],
      "execution_count": null,
      "outputs": [
        {
          "output_type": "stream",
          "text": [
            "Deu tudo certo, pode continuar...\n"
          ],
          "name": "stdout"
        }
      ]
    },
    {
      "metadata": {
        "id": "WTW_UlAzW1sR"
      },
      "cell_type": "markdown",
      "source": [
        "## 2.  Crie uma função chamada multiplicar() que recebe dois valores e retorna o resultado do produto entre os dois caso os dois sejam positivos e 0 caso contrário."
      ]
    },
    {
      "metadata": {
        "id": "AEhLBNbBW1sS"
      },
      "cell_type": "code",
      "source": [
        "def multiplicar (a,b):\n",
        "  if a < 0 and b >= 0:\n",
        "    return 0\n",
        "  if a >= 0 and b < 0:  \n",
        "    return 0\n",
        "  if a < 0 and b < 0:\n",
        "    return 0\n",
        "  if a >= 0 and b >= 0:  \n",
        "    return a * b \n",
        "  else:\n",
        "    return 0"
      ],
      "execution_count": null,
      "outputs": []
    },
    {
      "metadata": {
        "id": "KDUHB8zwW1sW"
      },
      "cell_type": "markdown",
      "source": [
        "### Célula de teste"
      ]
    },
    {
      "metadata": {
        "id": "4L6XP0B2W1sX",
        "outputId": "4230ab52-f810-476b-e8b7-f1bd99eb5772",
        "colab": {
          "base_uri": "https://localhost:8080/",
          "height": 34
        }
      },
      "cell_type": "code",
      "source": [
        "def teste_multiplicar():\n",
        "    assert multiplicar(2,2) == 4, 'não foi possível multiplicar valores positivos'\n",
        "    assert multiplicar(-1,2) == 0, 'não foi possível multiplicar quando o 1º é negativo'\n",
        "    assert multiplicar(2,-1) == 0, 'não foi possível multiplicar quando o 2º valor é negativo'\n",
        "    assert multiplicar(-1,-1) == 0, 'não foi possível multiplicar quando os dois valores são negativos'\n",
        "    \n",
        "try:\n",
        "    teste_multiplicar()\n",
        "    print(\"Deu tudo certo, pode continuar ...\")\n",
        "except AssertionError as error:\n",
        "    print(error)"
      ],
      "execution_count": null,
      "outputs": [
        {
          "output_type": "stream",
          "text": [
            "Deu tudo certo, pode continuar ...\n"
          ],
          "name": "stdout"
        }
      ]
    },
    {
      "metadata": {
        "id": "UFVQOTBhW1sc"
      },
      "cell_type": "markdown",
      "source": [
        "## 3. Crie uma lista chamada notas com 5 valores reais e uma função media() que calcula a média das notas"
      ]
    },
    {
      "metadata": {
        "id": "YpgAILR_W1se"
      },
      "cell_type": "code",
      "source": [
        "notas = [5, 5, 5, 5, 5]\n",
        "def media(notas):\n",
        "  acumulador = 0\n",
        "  for i in range(len(notas)):\n",
        "    acumulador += notas[i]\n",
        "  return acumulador / 5 "
      ],
      "execution_count": null,
      "outputs": []
    },
    {
      "metadata": {
        "id": "O3TRF3OAW1sh"
      },
      "cell_type": "markdown",
      "source": [
        "### Célula de teste"
      ]
    },
    {
      "metadata": {
        "id": "0-Ly9u00W1sj",
        "outputId": "f13550fb-73da-4aa3-cc0b-1bbc8d4fbde9",
        "colab": {
          "base_uri": "https://localhost:8080/",
          "height": 34
        }
      },
      "cell_type": "code",
      "source": [
        "def teste_media():\n",
        "    assert len(notas) == 5, 'notas não contém 5 valores'\n",
        "    assert media([1,1,1,1,1]) == 1, 'a função não calcula a média corretamente'\n",
        "    \n",
        "try:\n",
        "    teste_media()\n",
        "    print(\"Deu tudo certo, pode continuar ...\")\n",
        "except AssertionError as error:\n",
        "    print(error)"
      ],
      "execution_count": null,
      "outputs": [
        {
          "output_type": "stream",
          "text": [
            "Deu tudo certo, pode continuar ...\n"
          ],
          "name": "stdout"
        }
      ]
    },
    {
      "metadata": {
        "id": "BeHdVbQvW1so"
      },
      "cell_type": "markdown",
      "source": [
        "## 4. Crie uma lista chamada nomes com 3 nomes diferentes e uma função maior_nome() que recebe uma lista de nomes e retorna o maior nome"
      ]
    },
    {
      "metadata": {
        "id": "flDGltVGW1sq"
      },
      "cell_type": "code",
      "source": [
        "\n",
        "nomes = [\"beltrano\", \"cicrano\", \"fulano\"]\n",
        "nome1, nome2, nome3 = nomes\n",
        "def maior_nome(nomes):\n",
        "  if len(nome1) >= len(nome2) and len(nome1) >= len(nome3):\n",
        "    return nome1\n",
        "  if len(nome2) >= len(nome1) and len(nome2) >= len(nome3):\n",
        "    return nome2\n",
        "  if len(nome3) >= len(nome1) and len(nome3) >= len(nome2):\n",
        "    return nome3"
      ],
      "execution_count": null,
      "outputs": []
    },
    {
      "metadata": {
        "id": "Uh6VJW7sW1su"
      },
      "cell_type": "markdown",
      "source": [
        "### Célula de teste"
      ]
    },
    {
      "metadata": {
        "id": "gdv41-mwW1sw",
        "outputId": "0fa173c1-a9e5-4e52-965e-8a5a17021c34",
        "colab": {
          "base_uri": "https://localhost:8080/",
          "height": 34
        }
      },
      "cell_type": "code",
      "source": [
        "def teste_maior():\n",
        "    assert len(nomes) == 3\n",
        "    assert maior_nome(['a', 'aa', 'aaa']) == 'aaa', 'a função não retorna o maior nome'\n",
        "\n",
        "try:\n",
        "    teste_maior()\n",
        "    print(\"Deu tudo certo, pode continuar ...\")\n",
        "except AssertionError as error:\n",
        "    print(error)    \n",
        "\n",
        "    "
      ],
      "execution_count": null,
      "outputs": [
        {
          "output_type": "stream",
          "text": [
            "a função não retorna o maior nome\n"
          ],
          "name": "stdout"
        }
      ]
    },
    {
      "metadata": {
        "id": "XrkPlNmCW1s0"
      },
      "cell_type": "markdown",
      "source": [
        "## 5. Crie uma matriz 3x3 chamada matriz e função somar_matriz() que retorna a soma de todos os valores da matriz"
      ]
    },
    {
      "metadata": {
        "id": "fzZo_p4KW1s7"
      },
      "cell_type": "code",
      "source": [
        "matriz = [[1,1,1],[1,1,1],[1,1,1]]\n",
        "def somar_matriz(matriz):\n",
        "  acumulador = 0 \n",
        "  for linha in matriz:\n",
        "\t  for numero in linha:\n",
        "\t\t  acumulador = numero+acumulador\n",
        "  return acumulador"
      ],
      "execution_count": null,
      "outputs": []
    },
    {
      "metadata": {
        "id": "5TeriTcJW1s_"
      },
      "cell_type": "markdown",
      "source": [
        "### Célula de teste"
      ]
    },
    {
      "metadata": {
        "id": "_yvEaBdfW1tC",
        "colab": {
          "base_uri": "https://localhost:8080/",
          "height": 34
        },
        "outputId": "79d4b57c-e69e-4559-d06e-ef222e9d3740"
      },
      "cell_type": "code",
      "source": [
        "def teste_somar_matriz():\n",
        "    assert len(matriz) == 3, 'a matriz não tem 3 linhas'\n",
        "    \n",
        "    for  i,linha in enumerate(matriz):\n",
        "        assert len(linha) == 3, 'a {} linha não tem 3 colunas'.format(i+1)\n",
        "        \n",
        "    assert somar_matriz([[1,1,1],[1,1,1],[1,1,1]]) == 9, 'a função não soma corretamente os valores'\n",
        "\n",
        "try:\n",
        "    teste_somar_matriz()\n",
        "    print(\"Deu tudo certo, pode continuar ...\")\n",
        "except AssertionError as error:\n",
        "    print(error)"
      ],
      "execution_count": null,
      "outputs": [
        {
          "output_type": "stream",
          "text": [
            "Deu tudo certo, pode continuar ...\n"
          ],
          "name": "stdout"
        }
      ]
    },
    {
      "metadata": {
        "id": "RpYNR2txW1tG"
      },
      "cell_type": "markdown",
      "source": [
        "## 6. Crie uma função trocar_linhas() que recebe uma matriz e retorna uma nova matriz com as primeira e última linhas trocadas"
      ]
    },
    {
      "metadata": {
        "id": "KveQVj0zW1tI"
      },
      "cell_type": "code",
      "source": [
        ""
      ],
      "execution_count": null,
      "outputs": []
    },
    {
      "metadata": {
        "id": "Vo9lTZNfW1tM"
      },
      "cell_type": "code",
      "source": [
        "def teste_trocar_linhas():\n",
        "    assert trocar_linhas([[1,1],[2,2]]) == [[2,2],[1,1]], 'a função não troca corretamente as linhas'\n",
        "    \n",
        "try:\n",
        "    teste_trocar_linhas()\n",
        "    print(\"Deu tudo certo, pode continuar ...\")\n",
        "except AssertionError as error:\n",
        "    print(error)\n",
        "    "
      ],
      "execution_count": null,
      "outputs": []
    },
    {
      "metadata": {
        "id": "AA3ot0Z7W1tv"
      },
      "cell_type": "markdown",
      "source": [
        "## 7. Crie uma função trocar_colunas() que recebe uma matriz e retorna uma nova matriz com as primeira e última colunas trocadas"
      ]
    },
    {
      "metadata": {
        "id": "04PndAOlW1tw"
      },
      "cell_type": "code",
      "source": [
        ""
      ],
      "execution_count": null,
      "outputs": []
    },
    {
      "metadata": {
        "id": "WMhDfchVW1tz"
      },
      "cell_type": "code",
      "source": [
        "def teste_trocar_colunas():\n",
        "    assert trocar_colunas([[1,2],[1,2]]) == [[2,1],[2,1]], 'a função não troca corretamente as colunas'\n",
        "\n",
        "try:\n",
        "    teste_trocar_colunas()\n",
        "    print(\"Deu tudo certo, pode continuar ...\")\n",
        "except AssertionError as error:\n",
        "    print(error)\n"
      ],
      "execution_count": null,
      "outputs": []
    }
  ]
}