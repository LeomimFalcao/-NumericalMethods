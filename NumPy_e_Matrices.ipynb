{
  "nbformat": 4,
  "nbformat_minor": 0,
  "metadata": {
    "colab": {
      "name": "NumPy e Matrices.ipynb",
      "provenance": [],
      "include_colab_link": true
    },
    "kernelspec": {
      "display_name": "Python 3",
      "language": "python",
      "name": "python3"
    }
  },
  "cells": [
    {
      "cell_type": "markdown",
      "metadata": {
        "id": "view-in-github",
        "colab_type": "text"
      },
      "source": [
        "<a href=\"https://colab.research.google.com/github/LeomimFalcao/-NumericalMethods/blob/main/NumPy_e_Matrices.ipynb\" target=\"_parent\"><img src=\"https://colab.research.google.com/assets/colab-badge.svg\" alt=\"Open In Colab\"/></a>"
      ]
    },
    {
      "metadata": {
        "id": "ullM-tCAV8aE"
      },
      "cell_type": "markdown",
      "source": [
        "# Exercícios de revisão\n",
        "\n",
        "## NumPy e matrizes"
      ]
    },
    {
      "metadata": {
        "id": "9lrwCVw3V8aG"
      },
      "cell_type": "markdown",
      "source": [
        "Não esqueça de importar o `NumPy`"
      ]
    },
    {
      "metadata": {
        "id": "htRGm-oaV8aH"
      },
      "cell_type": "code",
      "source": [
        "import numpy as np"
      ],
      "execution_count": null,
      "outputs": []
    },
    {
      "metadata": {
        "id": "kkpFSX5KV8aN"
      },
      "cell_type": "markdown",
      "source": [
        "### 1.  Faça uma função `preparar_dados(input)` que dada uma `lista` em Python, retorne um `array NumPy`"
      ]
    },
    {
      "metadata": {
        "id": "GV30MfyKV8aP"
      },
      "cell_type": "code",
      "source": [
        "\n",
        "dados = [1,2,3]\n",
        "\n",
        "def preparar_dados(dados):\n",
        "     dados = np.array(dados)\n",
        "     return dados"
      ],
      "execution_count": null,
      "outputs": []
    },
    {
      "metadata": {
        "id": "xpzH8CewV8aT"
      },
      "cell_type": "markdown",
      "source": [
        "### Teste"
      ]
    },
    {
      "metadata": {
        "id": "5NzBGKplV8aV",
        "colab": {
          "base_uri": "https://localhost:8080/",
          "height": 34
        },
        "outputId": "0a14c517-608a-43c5-d074-32f6834a0619"
      },
      "cell_type": "code",
      "source": [
        "def teste_dados():\n",
        "    assert type(preparar_dados([1,2,3])) is np.ndarray, \"a função não retornou um np.array\"\n",
        "\n",
        "try:\n",
        "    teste_dados()\n",
        "    print(\"Deu tudo certo, pode continuar...\")\n",
        "except AssertionError as error:\n",
        "    print(error)"
      ],
      "execution_count": null,
      "outputs": [
        {
          "output_type": "stream",
          "text": [
            "Deu tudo certo, pode continuar...\n"
          ],
          "name": "stdout"
        }
      ]
    },
    {
      "metadata": {
        "id": "mLFDT5QZV8aa"
      },
      "cell_type": "markdown",
      "source": [
        "### 2. Faça uma função `media(input)` que retorna a média de uma dada lista"
      ]
    },
    {
      "metadata": {
        "id": "O8_hipDkV8ac"
      },
      "cell_type": "code",
      "source": [
        "dados = [1,1,1,1,1]\n",
        "def media(dados):\n",
        "  acumulador = 0\n",
        "  for i in range(len(dados)):\n",
        "     acumulador = acumulador + dados[i]\n",
        "  return acumulador / len(dados)    \n",
        "  "
      ],
      "execution_count": null,
      "outputs": []
    },
    {
      "metadata": {
        "id": "oGRPOertV8ah",
        "colab": {
          "base_uri": "https://localhost:8080/",
          "height": 34
        },
        "outputId": "cfaac3b8-8ae9-4614-f458-2042a6fe2415"
      },
      "cell_type": "code",
      "source": [
        "def teste_media():\n",
        "    assert type(media([1,2,3])) is not np.ndarray, \"a função retornou um np.array\"\n",
        "    assert media([1,1,1,1,1]) == 1 , \"a função não retornou a média correta\"\n",
        "\n",
        "try:\n",
        "    teste_media()\n",
        "    print(\"Deu tudo certo, pode continuar...\")\n",
        "except AssertionError as error:\n",
        "    print(error)"
      ],
      "execution_count": null,
      "outputs": [
        {
          "output_type": "stream",
          "text": [
            "Deu tudo certo, pode continuar...\n"
          ],
          "name": "stdout"
        }
      ]
    },
    {
      "metadata": {
        "id": "AoYA7JSyV8an"
      },
      "cell_type": "markdown",
      "source": [
        "### 3. Faça uma função `menos_min(input)` que recebe uma lista e retorna um `ndarray` com os valores da lista original subtraidos pelo menor valor encontrado na lista"
      ]
    },
    {
      "metadata": {
        "id": "I-d6o7zlV8ao"
      },
      "cell_type": "code",
      "source": [
        "dados = [1,2,3,4]\n",
        "def menos_min(dados):\n",
        "  dados = np.array(dados)\n",
        "  x = np.min(dados)\n",
        "  return dados - x "
      ],
      "execution_count": null,
      "outputs": []
    },
    {
      "metadata": {
        "id": "xuNjUo4ZV8at",
        "colab": {
          "base_uri": "https://localhost:8080/",
          "height": 34
        },
        "outputId": "038467c3-78f7-4f78-a3dc-facbe49928d5"
      },
      "cell_type": "code",
      "source": [
        "def teste_menos():\n",
        "    assert type(menos_min([1,2,3])) is np.ndarray, \"a função não retornou um np.array\"\n",
        "    assert (menos_min([1,2,3]) == [0,1,2]).all() , \"a função não retornou o array correto\"\n",
        "\n",
        "try:\n",
        "    teste_menos()\n",
        "    print(\"Deu tudo certo, pode continuar...\")\n",
        "except AssertionError as error:\n",
        "    print(error)"
      ],
      "execution_count": null,
      "outputs": [
        {
          "output_type": "stream",
          "text": [
            "Deu tudo certo, pode continuar...\n"
          ],
          "name": "stdout"
        }
      ]
    },
    {
      "metadata": {
        "id": "1vXcqoCtV8ay"
      },
      "cell_type": "markdown",
      "source": [
        "### 4. Faça um função `dividir_max(input)` que recebe uma lista e retorna um `ndarray` com os valores da lista original divididos pelo maior valor encontrado na lista"
      ]
    },
    {
      "metadata": {
        "id": "Ou2jFAd1V8a1"
      },
      "cell_type": "code",
      "source": [
        "dados = [1,2,3,4]\n",
        "def dividir_max(dados):\n",
        "  dados = np.array(dados)\n",
        "  x = np.max(dados)\n",
        "  return dados / x "
      ],
      "execution_count": null,
      "outputs": []
    },
    {
      "metadata": {
        "id": "kl6zp_UuV8a5",
        "colab": {
          "base_uri": "https://localhost:8080/",
          "height": 34
        },
        "outputId": "b3216dbd-0b33-4f20-eeb6-23df9f0e551c"
      },
      "cell_type": "code",
      "source": [
        "def teste_max():\n",
        "    assert type(dividir_max([1,2,3])) is np.ndarray, \"a função não retornou um np.array\"\n",
        "    assert (dividir_max([1,2,3]) == [1/3,2/3,3/3]).all() , \"a função não retornou o array correto\"\n",
        "\n",
        "try:\n",
        "    teste_max()\n",
        "    print(\"Deu tudo certo, pode continuar...\")\n",
        "except AssertionError as error:\n",
        "    print(error)"
      ],
      "execution_count": null,
      "outputs": [
        {
          "output_type": "stream",
          "text": [
            "Deu tudo certo, pode continuar...\n"
          ],
          "name": "stdout"
        }
      ]
    },
    {
      "metadata": {
        "id": "0KS2ylzvV8a_"
      },
      "cell_type": "markdown",
      "source": [
        "### 5. Faça uma função `multiplicar_matrizes(m1, m2)` que recebe duas matrizes e retorna o resultado do produto entre matrizes ou retorna `False` caso não seja possível multiplicar as duas matrizes."
      ]
    },
    {
      "metadata": {
        "id": "U7i_MjJWV8bB"
      },
      "cell_type": "code",
      "source": [
        "m1 = [[1,2,3],[1,2,3],[1,2,3]]\n",
        "m2 = [[1,2,3],[1,2,3],[1,2,3]]\n",
        "def multiplicar_matrizes(m1,m2):\n",
        "  m1 = np.array(m1)\n",
        "  m2 = np.array(m2)\n",
        "  if m1.shape[0] == m2.shape[1]:\n",
        "    return np.matmul(m1,m2)\n",
        "  else: \n",
        "    return False"
      ],
      "execution_count": null,
      "outputs": []
    },
    {
      "metadata": {
        "id": "DW6sP5nKV8bH",
        "colab": {
          "base_uri": "https://localhost:8080/",
          "height": 34
        },
        "outputId": "41d0a385-de1d-48c0-eda4-f7b64e49b346"
      },
      "cell_type": "code",
      "source": [
        "def teste_multiplicar():\n",
        "    assert type(multiplicar_matrizes([[1,1],[2,2]], [[1,1],[2,2]])) is np.ndarray, \\\n",
        "    \"a função não retornou um np.array\"\n",
        "    \n",
        "    assert not multiplicar_matrizes([[1,1,1],[1,1,1],[1,1,1]],[[1,1],[1,1]]), \\\n",
        "    \"não retornou False para a diferença entre linhas e colunas das matrizes\"\n",
        "    \n",
        "    assert (multiplicar_matrizes([[1,1],[2,2]], [[1,1],[2,2]]) == [[3,3],[6,6]]).all(), \\\n",
        "    \"a função não retornou a matriz correta\"\n",
        "\n",
        "try:\n",
        "    teste_multiplicar()\n",
        "    print(\"Deu tudo certo, pode continuar...\")\n",
        "except AssertionError as error:\n",
        "    print(error)"
      ],
      "execution_count": null,
      "outputs": [
        {
          "output_type": "stream",
          "text": [
            "Deu tudo certo, pode continuar...\n"
          ],
          "name": "stdout"
        }
      ]
    }
  ]
}