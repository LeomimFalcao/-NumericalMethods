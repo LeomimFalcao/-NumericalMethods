{
  "nbformat": 4,
  "nbformat_minor": 0,
  "metadata": {
    "colab": {
      "name": "trapeze rule and double integral.ipynb",
      "provenance": [],
      "collapsed_sections": [],
      "include_colab_link": true
    },
    "kernelspec": {
      "name": "python3",
      "display_name": "Python 3"
    }
  },
  "cells": [
    {
      "cell_type": "markdown",
      "metadata": {
        "id": "view-in-github",
        "colab_type": "text"
      },
      "source": [
        "<a href=\"https://colab.research.google.com/github/LeomimFalcao/-NumericalMethods/blob/main/trapeze_rule_and_double_integral.ipynb\" target=\"_parent\"><img src=\"https://colab.research.google.com/assets/colab-badge.svg\" alt=\"Open In Colab\"/></a>"
      ]
    },
    {
      "cell_type": "code",
      "metadata": {
        "id": "wiSJKdIx6DkO"
      },
      "source": [
        "import numpy as np\n",
        "from scipy.linalg import solve_triangular\n",
        "import matplotlib.pyplot as plot\n",
        "np.set_printoptions(formatter={'float': lambda x: \"{:.4f}\".format(x)})"
      ],
      "execution_count": null,
      "outputs": []
    },
    {
      "cell_type": "code",
      "metadata": {
        "id": "G9ct_LE4JAOe"
      },
      "source": [
        "#@title 3ª Prova métodos numéricos 2019.1\n",
        "nome = \"Leomim Falcao\" #@param {type:\"string\"}\n",
        "matricula = \"20181610016\" #@param {type:\"string\"}"
      ],
      "execution_count": null,
      "outputs": []
    },
    {
      "cell_type": "markdown",
      "metadata": {
        "id": "PKwVPhb8QxDG"
      },
      "source": [
        "### Formulário de entrega: https://forms.gle/uxbbqociiWd5nhYn9"
      ]
    },
    {
      "cell_type": "code",
      "metadata": {
        "id": "SOolasis5p_7",
        "outputId": "a332a77c-fe7a-4e0c-c904-a52c7d029a54",
        "colab": {
          "base_uri": "https://localhost:8080/",
          "height": 34
        }
      },
      "source": [
        "print(f'{nome} - {matricula} - 3ª Prova de Métodos Numéricos 2019.1')"
      ],
      "execution_count": null,
      "outputs": [
        {
          "output_type": "stream",
          "text": [
            "Leomim Falcão - 20181610016 - 3ª Prova de Métodos Numéricos 2019.1\n"
          ],
          "name": "stdout"
        }
      ]
    },
    {
      "cell_type": "markdown",
      "metadata": {
        "id": "l8eCAJ6wLq73"
      },
      "source": [
        "# Questões"
      ]
    },
    {
      "cell_type": "markdown",
      "metadata": {
        "id": "5yuqHAJW6mRx"
      },
      "source": [
        "### 1. Calcule numericamente $\\int_0^{0.8} 0.2+25x+200x^2+675x^3-900x^4+400x^5 dx$\n",
        "\n"
      ]
    },
    {
      "cell_type": "markdown",
      "metadata": {
        "id": "4RZVffOhgSQJ"
      },
      "source": [
        "Primeiro foi definido a função em questão. Após isso implementado uma forma padrão de se realizar integrais numericamente, setando coeficientes pré-estabelecidos e printado o resultado."
      ]
    },
    {
      "cell_type": "code",
      "metadata": {
        "id": "shpbRN9a9lt8"
      },
      "source": [
        "def f(x):\n",
        "  return 0.2+25*x+200*x**2+675*x**3-900*x**4+400*x**5"
      ],
      "execution_count": null,
      "outputs": []
    },
    {
      "cell_type": "code",
      "metadata": {
        "id": "XmSFld8rKhoU"
      },
      "source": [
        "def integral(funcao, a, b):\n",
        "  \n",
        "    coeficiente = [7,32,12,32,7]\n",
        "    resultado = 0\n",
        "    \n",
        "    \n",
        "    for i in range(0,len(coeficiente)):\n",
        "        x = a + (i*(b-a))/(len(coeficiente)-1)\n",
        "        resultado += coeficiente[i]*funcao(x)\n",
        "    resultado = resultado*((b-a)/90.)\n",
        "    \n",
        "    return resultado"
      ],
      "execution_count": null,
      "outputs": []
    },
    {
      "cell_type": "code",
      "metadata": {
        "id": "oA_aO-3bKhvg",
        "outputId": "b46d3364-da24-47d6-8e66-d0cc1befe391",
        "colab": {
          "base_uri": "https://localhost:8080/",
          "height": 34
        }
      },
      "source": [
        "res = integral(f,0,0.8)\n",
        "print(res)"
      ],
      "execution_count": null,
      "outputs": [
        {
          "output_type": "stream",
          "text": [
            "69.90720000000002\n"
          ],
          "name": "stdout"
        }
      ]
    },
    {
      "cell_type": "code",
      "metadata": {
        "id": "nGi5IsFqLzk4"
      },
      "source": [
        ""
      ],
      "execution_count": null,
      "outputs": []
    },
    {
      "cell_type": "markdown",
      "metadata": {
        "id": "5Kwa1-XT-_mx"
      },
      "source": [
        "### 2. Utilizando a regra do trapézio e APENAS os dados da tabela calcule a área sob a curva\n",
        "\n",
        "x|f(x)\n",
        "--|--\n",
        "2|0.707\n",
        "2.2|0.674\n",
        "2.3|0.659\n",
        "2.4|0.645\n",
        "2.5|0.632\n",
        "2.7|0.609"
      ]
    },
    {
      "cell_type": "code",
      "metadata": {
        "id": "OvL16c97BkhK"
      },
      "source": [
        "x_valores =[2,2.2,2.3,2.4,2.5,2.7]\n",
        "y_valores =[0.707,0.674,0.659,0.645,0.632,0.609]\n"
      ],
      "execution_count": null,
      "outputs": []
    },
    {
      "cell_type": "code",
      "metadata": {
        "id": "SpCRYEk2Kj_E"
      },
      "source": [
        "def trapezio_alterado(a, b, x, y, n):\n",
        "  h = (b-a)/n\n",
        "  \n",
        "  \n",
        "  somatorio = 0\n",
        "  somatorio = somatorio + (y_valores[0]+y_valores[-1])\n",
        "  \n",
        "  for i in range (1, n-1):\n",
        "    somatorio = somatorio + (2*y_valores[i])\n",
        "  \n",
        "  return somatorio*(h/2)\n",
        "  "
      ],
      "execution_count": null,
      "outputs": []
    },
    {
      "cell_type": "code",
      "metadata": {
        "id": "u9vKL8TxKkB5",
        "outputId": "0fca807d-1ca5-4a76-b3e5-5830ea0050f8",
        "colab": {
          "base_uri": "https://localhost:8080/",
          "height": 34
        }
      },
      "source": [
        "res = trapezio_alterado(2,2.7,x_valores,y_valores,5)\n",
        "print(res)"
      ],
      "execution_count": null,
      "outputs": [
        {
          "output_type": "stream",
          "text": [
            "0.36904000000000015\n"
          ],
          "name": "stdout"
        }
      ]
    },
    {
      "cell_type": "code",
      "metadata": {
        "id": "bGD8G45AU-gl"
      },
      "source": [
        ""
      ],
      "execution_count": null,
      "outputs": []
    },
    {
      "cell_type": "code",
      "metadata": {
        "id": "BNMZ78CGKkP4"
      },
      "source": [
        ""
      ],
      "execution_count": null,
      "outputs": []
    },
    {
      "cell_type": "code",
      "metadata": {
        "id": "C_lkv92qKlj2"
      },
      "source": [
        ""
      ],
      "execution_count": null,
      "outputs": []
    },
    {
      "cell_type": "markdown",
      "metadata": {
        "id": "bkVT21BVBpwZ"
      },
      "source": [
        "###3 Calcule a integral dupla \n",
        "\n",
        "$$I = \\int_2^5\\int_0^1 sen(x^2 + y^2) dydx$$"
      ]
    },
    {
      "cell_type": "markdown",
      "metadata": {
        "id": "FZy_s3jyeUdv"
      },
      "source": [
        "Nessa questão primeiro foi utilizado do metódo direto primeiramente para saber um valor aproximado e assim validar o que viria a ser implementado posteriormente(o primeiro valor apresentado pelo modo direto é o resultado da integral dupla, o segundo é uma taxa de erro), comprovando assim o resultado obtido por uma aplicação de um metodo do trapezio."
      ]
    },
    {
      "cell_type": "markdown",
      "metadata": {
        "id": "thlOCbdWSA3e"
      },
      "source": [
        "### Justificativa:\n",
        "\n"
      ]
    },
    {
      "cell_type": "code",
      "metadata": {
        "id": "S1FuAevVczao",
        "colab": {
          "base_uri": "https://localhost:8080/",
          "height": 34
        },
        "outputId": "818f8a2a-e9cb-42b3-f8d3-f9c292689c14"
      },
      "source": [
        "from scipy import integrate\n",
        "f = lambda y, x: np.sin(x**2+y**2)\n",
        "integrate.dblquad(f, 0, 1, lambda x: 2, lambda x: 5)\n"
      ],
      "execution_count": null,
      "outputs": [
        {
          "output_type": "execute_result",
          "data": {
            "text/plain": [
              "(-0.20388397337309455, 1.4534181361908205e-08)"
            ]
          },
          "metadata": {
            "tags": []
          },
          "execution_count": 6
        }
      ]
    },
    {
      "cell_type": "code",
      "metadata": {
        "id": "TTC8eSw_KeIF"
      },
      "source": [
        "\n",
        "def f(x,y):\n",
        "  return np.sin(x**2+y**2)"
      ],
      "execution_count": null,
      "outputs": []
    },
    {
      "cell_type": "code",
      "metadata": {
        "id": "wXzVBmrtKmwm"
      },
      "source": [
        "def trapezio38(a, b, c, d, n, f):\n",
        "  h = (b-a)/n\n",
        "  l = (d-c)/n\n",
        "  \n",
        "  \n",
        "  somatorio = 0\n",
        "  \n",
        "  \n",
        "  for i in range (0, n):\n",
        "    m = 0\n",
        "    if i==0 or i==n-1:\n",
        "      m = 1\n",
        "    elif i%3==0:\n",
        "      m = 2\n",
        "    else:\n",
        "      m = 3\n",
        "    for j in range (0, n):\n",
        "      q = 0\n",
        "      if j==0 or j==n-1:\n",
        "        q = 1\n",
        "      elif j%3==0:\n",
        "        q = 2\n",
        "      else:\n",
        "        q = 3\n",
        "      somatorio_1 = a + j*h\n",
        "      somatorio_2 = c + i*l\n",
        "      somatorio=somatorio + (m*q*f(somatorio_1, somatorio_2))\n",
        "      \n",
        "  return 9*(h*l)/64 * somatorio"
      ],
      "execution_count": null,
      "outputs": []
    },
    {
      "cell_type": "code",
      "metadata": {
        "id": "htsibBelKmzR",
        "outputId": "e43342b9-24c2-4dd7-84cf-623201f66618",
        "colab": {
          "base_uri": "https://localhost:8080/",
          "height": 34
        }
      },
      "source": [
        "res = trapezio38(0,1,2,5,100,f)\n",
        "print(res)"
      ],
      "execution_count": null,
      "outputs": [
        {
          "output_type": "stream",
          "text": [
            "-0.20480611437546553\n"
          ],
          "name": "stdout"
        }
      ]
    },
    {
      "cell_type": "code",
      "metadata": {
        "id": "_7UnoxUuKm16"
      },
      "source": [
        ""
      ],
      "execution_count": null,
      "outputs": []
    }
  ]
}